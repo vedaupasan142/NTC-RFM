{
 "cells": [
  {
   "cell_type": "code",
   "execution_count": 1,
   "id": "58a3beb9",
   "metadata": {},
   "outputs": [],
   "source": [
    "import numpy as np # linear algebra\n",
    "import pandas as pd # data processing, CSV file I/O (e.g. pd.read_csv)\n",
    "#from sklearn.feature_selection import SelectKBest\n",
    "#from sklearn.feature_selection import chi2\n",
    "from sklearn.preprocessing import LabelEncoder\n",
    "from sklearn.ensemble import RandomForestClassifier\n",
    "from sklearn.preprocessing import StandardScaler\n",
    "from sklearn.metrics import confusion_matrix\n",
    "from sklearn.model_selection import train_test_split\n",
    "import matplotlib.pyplot as plt\n",
    "import seaborn as sns\n",
    "import csv\n",
    "#importing the required modues"
   ]
  },
  {
   "cell_type": "code",
   "execution_count": 2,
   "id": "fe29aea1",
   "metadata": {},
   "outputs": [
    {
     "name": "stdout",
     "output_type": "stream",
     "text": [
      "There are 100000 rows and 87 columns\n"
     ]
    }
   ],
   "source": [
    "nRowsRead = 100000 # specify 'None' if want to read whole file\n",
    "initialDataFrame = pd.read_csv('Dataset.csv', delimiter=',', nrows = nRowsRead)\n",
    "initialDataFrame.dataframeName = 'Dataset.csv'\n",
    "nRow, nCol = initialDataFrame.shape\n",
    "print(f'There are {nRow} rows and {nCol} columns')"
   ]
  },
  {
   "cell_type": "code",
   "execution_count": 3,
   "id": "e5b12d7b",
   "metadata": {},
   "outputs": [
    {
     "data": {
      "text/html": [
       "<div>\n",
       "<style scoped>\n",
       "    .dataframe tbody tr th:only-of-type {\n",
       "        vertical-align: middle;\n",
       "    }\n",
       "\n",
       "    .dataframe tbody tr th {\n",
       "        vertical-align: top;\n",
       "    }\n",
       "\n",
       "    .dataframe thead th {\n",
       "        text-align: right;\n",
       "    }\n",
       "</style>\n",
       "<table border=\"1\" class=\"dataframe\">\n",
       "  <thead>\n",
       "    <tr style=\"text-align: right;\">\n",
       "      <th></th>\n",
       "      <th>Flow.ID</th>\n",
       "      <th>Source.IP</th>\n",
       "      <th>Source.Port</th>\n",
       "      <th>Destination.IP</th>\n",
       "      <th>Destination.Port</th>\n",
       "      <th>Protocol</th>\n",
       "      <th>Timestamp</th>\n",
       "      <th>Flow.Duration</th>\n",
       "      <th>Total.Fwd.Packets</th>\n",
       "      <th>Total.Backward.Packets</th>\n",
       "      <th>...</th>\n",
       "      <th>Active.Std</th>\n",
       "      <th>Active.Max</th>\n",
       "      <th>Active.Min</th>\n",
       "      <th>Idle.Mean</th>\n",
       "      <th>Idle.Std</th>\n",
       "      <th>Idle.Max</th>\n",
       "      <th>Idle.Min</th>\n",
       "      <th>Label</th>\n",
       "      <th>L7Protocol</th>\n",
       "      <th>ProtocolName</th>\n",
       "    </tr>\n",
       "  </thead>\n",
       "  <tbody>\n",
       "    <tr>\n",
       "      <th>0</th>\n",
       "      <td>172.19.1.46-10.200.7.7-52422-3128-6</td>\n",
       "      <td>172.19.1.46</td>\n",
       "      <td>52422</td>\n",
       "      <td>10.200.7.7</td>\n",
       "      <td>3128</td>\n",
       "      <td>6</td>\n",
       "      <td>26/04/201711:11:17</td>\n",
       "      <td>45523</td>\n",
       "      <td>22</td>\n",
       "      <td>55</td>\n",
       "      <td>...</td>\n",
       "      <td>0.0</td>\n",
       "      <td>0</td>\n",
       "      <td>0</td>\n",
       "      <td>0.0</td>\n",
       "      <td>0.0</td>\n",
       "      <td>0</td>\n",
       "      <td>0</td>\n",
       "      <td>BENIGN</td>\n",
       "      <td>131</td>\n",
       "      <td>HTTP_PROXY</td>\n",
       "    </tr>\n",
       "    <tr>\n",
       "      <th>1</th>\n",
       "      <td>172.19.1.46-10.200.7.7-52422-3128-6</td>\n",
       "      <td>10.200.7.7</td>\n",
       "      <td>3128</td>\n",
       "      <td>172.19.1.46</td>\n",
       "      <td>52422</td>\n",
       "      <td>6</td>\n",
       "      <td>26/04/201711:11:17</td>\n",
       "      <td>1</td>\n",
       "      <td>2</td>\n",
       "      <td>0</td>\n",
       "      <td>...</td>\n",
       "      <td>0.0</td>\n",
       "      <td>0</td>\n",
       "      <td>0</td>\n",
       "      <td>0.0</td>\n",
       "      <td>0.0</td>\n",
       "      <td>0</td>\n",
       "      <td>0</td>\n",
       "      <td>BENIGN</td>\n",
       "      <td>131</td>\n",
       "      <td>HTTP_PROXY</td>\n",
       "    </tr>\n",
       "    <tr>\n",
       "      <th>2</th>\n",
       "      <td>10.200.7.217-50.31.185.39-38848-80-6</td>\n",
       "      <td>50.31.185.39</td>\n",
       "      <td>80</td>\n",
       "      <td>10.200.7.217</td>\n",
       "      <td>38848</td>\n",
       "      <td>6</td>\n",
       "      <td>26/04/201711:11:17</td>\n",
       "      <td>1</td>\n",
       "      <td>3</td>\n",
       "      <td>0</td>\n",
       "      <td>...</td>\n",
       "      <td>0.0</td>\n",
       "      <td>0</td>\n",
       "      <td>0</td>\n",
       "      <td>0.0</td>\n",
       "      <td>0.0</td>\n",
       "      <td>0</td>\n",
       "      <td>0</td>\n",
       "      <td>BENIGN</td>\n",
       "      <td>7</td>\n",
       "      <td>HTTP</td>\n",
       "    </tr>\n",
       "    <tr>\n",
       "      <th>3</th>\n",
       "      <td>10.200.7.217-50.31.185.39-38848-80-6</td>\n",
       "      <td>50.31.185.39</td>\n",
       "      <td>80</td>\n",
       "      <td>10.200.7.217</td>\n",
       "      <td>38848</td>\n",
       "      <td>6</td>\n",
       "      <td>26/04/201711:11:17</td>\n",
       "      <td>217</td>\n",
       "      <td>1</td>\n",
       "      <td>3</td>\n",
       "      <td>...</td>\n",
       "      <td>0.0</td>\n",
       "      <td>0</td>\n",
       "      <td>0</td>\n",
       "      <td>0.0</td>\n",
       "      <td>0.0</td>\n",
       "      <td>0</td>\n",
       "      <td>0</td>\n",
       "      <td>BENIGN</td>\n",
       "      <td>7</td>\n",
       "      <td>HTTP</td>\n",
       "    </tr>\n",
       "    <tr>\n",
       "      <th>4</th>\n",
       "      <td>192.168.72.43-10.200.7.7-55961-3128-6</td>\n",
       "      <td>192.168.72.43</td>\n",
       "      <td>55961</td>\n",
       "      <td>10.200.7.7</td>\n",
       "      <td>3128</td>\n",
       "      <td>6</td>\n",
       "      <td>26/04/201711:11:17</td>\n",
       "      <td>78068</td>\n",
       "      <td>5</td>\n",
       "      <td>0</td>\n",
       "      <td>...</td>\n",
       "      <td>0.0</td>\n",
       "      <td>0</td>\n",
       "      <td>0</td>\n",
       "      <td>0.0</td>\n",
       "      <td>0.0</td>\n",
       "      <td>0</td>\n",
       "      <td>0</td>\n",
       "      <td>BENIGN</td>\n",
       "      <td>131</td>\n",
       "      <td>HTTP_PROXY</td>\n",
       "    </tr>\n",
       "    <tr>\n",
       "      <th>...</th>\n",
       "      <td>...</td>\n",
       "      <td>...</td>\n",
       "      <td>...</td>\n",
       "      <td>...</td>\n",
       "      <td>...</td>\n",
       "      <td>...</td>\n",
       "      <td>...</td>\n",
       "      <td>...</td>\n",
       "      <td>...</td>\n",
       "      <td>...</td>\n",
       "      <td>...</td>\n",
       "      <td>...</td>\n",
       "      <td>...</td>\n",
       "      <td>...</td>\n",
       "      <td>...</td>\n",
       "      <td>...</td>\n",
       "      <td>...</td>\n",
       "      <td>...</td>\n",
       "      <td>...</td>\n",
       "      <td>...</td>\n",
       "      <td>...</td>\n",
       "    </tr>\n",
       "    <tr>\n",
       "      <th>99995</th>\n",
       "      <td>192.168.205.131-10.200.7.6-54082-3128-6</td>\n",
       "      <td>10.200.7.6</td>\n",
       "      <td>3128</td>\n",
       "      <td>192.168.205.131</td>\n",
       "      <td>54082</td>\n",
       "      <td>6</td>\n",
       "      <td>26/04/201711:14:24</td>\n",
       "      <td>404</td>\n",
       "      <td>1</td>\n",
       "      <td>1</td>\n",
       "      <td>...</td>\n",
       "      <td>0.0</td>\n",
       "      <td>0</td>\n",
       "      <td>0</td>\n",
       "      <td>0.0</td>\n",
       "      <td>0.0</td>\n",
       "      <td>0</td>\n",
       "      <td>0</td>\n",
       "      <td>BENIGN</td>\n",
       "      <td>7</td>\n",
       "      <td>HTTP</td>\n",
       "    </tr>\n",
       "    <tr>\n",
       "      <th>99996</th>\n",
       "      <td>10.200.7.217-91.216.63.241-37416-80-6</td>\n",
       "      <td>10.200.7.217</td>\n",
       "      <td>37416</td>\n",
       "      <td>91.216.63.241</td>\n",
       "      <td>80</td>\n",
       "      <td>6</td>\n",
       "      <td>26/04/201711:14:42</td>\n",
       "      <td>309</td>\n",
       "      <td>1</td>\n",
       "      <td>2</td>\n",
       "      <td>...</td>\n",
       "      <td>0.0</td>\n",
       "      <td>0</td>\n",
       "      <td>0</td>\n",
       "      <td>0.0</td>\n",
       "      <td>0.0</td>\n",
       "      <td>0</td>\n",
       "      <td>0</td>\n",
       "      <td>BENIGN</td>\n",
       "      <td>7</td>\n",
       "      <td>HTTP</td>\n",
       "    </tr>\n",
       "    <tr>\n",
       "      <th>99997</th>\n",
       "      <td>172.217.29.69-10.200.7.194-443-35657-6</td>\n",
       "      <td>172.217.29.69</td>\n",
       "      <td>443</td>\n",
       "      <td>10.200.7.194</td>\n",
       "      <td>35657</td>\n",
       "      <td>6</td>\n",
       "      <td>26/04/201711:16:37</td>\n",
       "      <td>148</td>\n",
       "      <td>1</td>\n",
       "      <td>1</td>\n",
       "      <td>...</td>\n",
       "      <td>0.0</td>\n",
       "      <td>0</td>\n",
       "      <td>0</td>\n",
       "      <td>0.0</td>\n",
       "      <td>0.0</td>\n",
       "      <td>0</td>\n",
       "      <td>0</td>\n",
       "      <td>BENIGN</td>\n",
       "      <td>126</td>\n",
       "      <td>GOOGLE</td>\n",
       "    </tr>\n",
       "    <tr>\n",
       "      <th>99998</th>\n",
       "      <td>192.168.29.55-10.200.7.8-61690-3128-6</td>\n",
       "      <td>192.168.29.55</td>\n",
       "      <td>61690</td>\n",
       "      <td>10.200.7.8</td>\n",
       "      <td>3128</td>\n",
       "      <td>6</td>\n",
       "      <td>26/04/201711:15:31</td>\n",
       "      <td>82</td>\n",
       "      <td>1</td>\n",
       "      <td>2</td>\n",
       "      <td>...</td>\n",
       "      <td>0.0</td>\n",
       "      <td>0</td>\n",
       "      <td>0</td>\n",
       "      <td>0.0</td>\n",
       "      <td>0.0</td>\n",
       "      <td>0</td>\n",
       "      <td>0</td>\n",
       "      <td>BENIGN</td>\n",
       "      <td>126</td>\n",
       "      <td>GOOGLE</td>\n",
       "    </tr>\n",
       "    <tr>\n",
       "      <th>99999</th>\n",
       "      <td>192.168.10.95-10.200.7.7-51504-3128-6</td>\n",
       "      <td>192.168.10.95</td>\n",
       "      <td>51504</td>\n",
       "      <td>10.200.7.7</td>\n",
       "      <td>3128</td>\n",
       "      <td>6</td>\n",
       "      <td>26/04/201711:15:11</td>\n",
       "      <td>824</td>\n",
       "      <td>1</td>\n",
       "      <td>4</td>\n",
       "      <td>...</td>\n",
       "      <td>0.0</td>\n",
       "      <td>0</td>\n",
       "      <td>0</td>\n",
       "      <td>0.0</td>\n",
       "      <td>0.0</td>\n",
       "      <td>0</td>\n",
       "      <td>0</td>\n",
       "      <td>BENIGN</td>\n",
       "      <td>130</td>\n",
       "      <td>HTTP_CONNECT</td>\n",
       "    </tr>\n",
       "  </tbody>\n",
       "</table>\n",
       "<p>100000 rows × 87 columns</p>\n",
       "</div>"
      ],
      "text/plain": [
       "                                       Flow.ID      Source.IP  Source.Port  \\\n",
       "0          172.19.1.46-10.200.7.7-52422-3128-6    172.19.1.46        52422   \n",
       "1          172.19.1.46-10.200.7.7-52422-3128-6     10.200.7.7         3128   \n",
       "2         10.200.7.217-50.31.185.39-38848-80-6   50.31.185.39           80   \n",
       "3         10.200.7.217-50.31.185.39-38848-80-6   50.31.185.39           80   \n",
       "4        192.168.72.43-10.200.7.7-55961-3128-6  192.168.72.43        55961   \n",
       "...                                        ...            ...          ...   \n",
       "99995  192.168.205.131-10.200.7.6-54082-3128-6     10.200.7.6         3128   \n",
       "99996    10.200.7.217-91.216.63.241-37416-80-6   10.200.7.217        37416   \n",
       "99997   172.217.29.69-10.200.7.194-443-35657-6  172.217.29.69          443   \n",
       "99998    192.168.29.55-10.200.7.8-61690-3128-6  192.168.29.55        61690   \n",
       "99999    192.168.10.95-10.200.7.7-51504-3128-6  192.168.10.95        51504   \n",
       "\n",
       "        Destination.IP  Destination.Port  Protocol           Timestamp  \\\n",
       "0           10.200.7.7              3128         6  26/04/201711:11:17   \n",
       "1          172.19.1.46             52422         6  26/04/201711:11:17   \n",
       "2         10.200.7.217             38848         6  26/04/201711:11:17   \n",
       "3         10.200.7.217             38848         6  26/04/201711:11:17   \n",
       "4           10.200.7.7              3128         6  26/04/201711:11:17   \n",
       "...                ...               ...       ...                 ...   \n",
       "99995  192.168.205.131             54082         6  26/04/201711:14:24   \n",
       "99996    91.216.63.241                80         6  26/04/201711:14:42   \n",
       "99997     10.200.7.194             35657         6  26/04/201711:16:37   \n",
       "99998       10.200.7.8              3128         6  26/04/201711:15:31   \n",
       "99999       10.200.7.7              3128         6  26/04/201711:15:11   \n",
       "\n",
       "       Flow.Duration  Total.Fwd.Packets  Total.Backward.Packets  ...  \\\n",
       "0              45523                 22                      55  ...   \n",
       "1                  1                  2                       0  ...   \n",
       "2                  1                  3                       0  ...   \n",
       "3                217                  1                       3  ...   \n",
       "4              78068                  5                       0  ...   \n",
       "...              ...                ...                     ...  ...   \n",
       "99995            404                  1                       1  ...   \n",
       "99996            309                  1                       2  ...   \n",
       "99997            148                  1                       1  ...   \n",
       "99998             82                  1                       2  ...   \n",
       "99999            824                  1                       4  ...   \n",
       "\n",
       "       Active.Std  Active.Max  Active.Min  Idle.Mean  Idle.Std  Idle.Max  \\\n",
       "0             0.0           0           0        0.0       0.0         0   \n",
       "1             0.0           0           0        0.0       0.0         0   \n",
       "2             0.0           0           0        0.0       0.0         0   \n",
       "3             0.0           0           0        0.0       0.0         0   \n",
       "4             0.0           0           0        0.0       0.0         0   \n",
       "...           ...         ...         ...        ...       ...       ...   \n",
       "99995         0.0           0           0        0.0       0.0         0   \n",
       "99996         0.0           0           0        0.0       0.0         0   \n",
       "99997         0.0           0           0        0.0       0.0         0   \n",
       "99998         0.0           0           0        0.0       0.0         0   \n",
       "99999         0.0           0           0        0.0       0.0         0   \n",
       "\n",
       "       Idle.Min   Label  L7Protocol  ProtocolName  \n",
       "0             0  BENIGN         131    HTTP_PROXY  \n",
       "1             0  BENIGN         131    HTTP_PROXY  \n",
       "2             0  BENIGN           7          HTTP  \n",
       "3             0  BENIGN           7          HTTP  \n",
       "4             0  BENIGN         131    HTTP_PROXY  \n",
       "...         ...     ...         ...           ...  \n",
       "99995         0  BENIGN           7          HTTP  \n",
       "99996         0  BENIGN           7          HTTP  \n",
       "99997         0  BENIGN         126        GOOGLE  \n",
       "99998         0  BENIGN         126        GOOGLE  \n",
       "99999         0  BENIGN         130  HTTP_CONNECT  \n",
       "\n",
       "[100000 rows x 87 columns]"
      ]
     },
     "execution_count": 3,
     "metadata": {},
     "output_type": "execute_result"
    }
   ],
   "source": [
    "initialDataFrame[:]"
   ]
  },
  {
   "cell_type": "code",
   "execution_count": 4,
   "id": "adea915b",
   "metadata": {},
   "outputs": [],
   "source": [
    "initialDataFrame.dropna(inplace = True) #Drop rows/column with null values "
   ]
  },
  {
   "cell_type": "code",
   "execution_count": 5,
   "id": "df027e39",
   "metadata": {},
   "outputs": [
    {
     "data": {
      "text/plain": [
       "'We will generate our own labels later'"
      ]
     },
     "execution_count": 5,
     "metadata": {},
     "output_type": "execute_result"
    }
   ],
   "source": [
    "initialDataFrame.drop(columns =[\"Timestamp\", \"Label\"], inplace = True) #Drop columns Timestamp and Label\n",
    "'''We will generate our own labels later'''"
   ]
  },
  {
   "cell_type": "code",
   "execution_count": 6,
   "id": "21003a84",
   "metadata": {},
   "outputs": [
    {
     "data": {
      "text/plain": [
       "Index(['Flow.ID', 'Source.IP', 'Source.Port', 'Destination.IP',\n",
       "       'Destination.Port', 'Protocol', 'Flow.Duration', 'Total.Fwd.Packets',\n",
       "       'Total.Backward.Packets', 'Total.Length.of.Fwd.Packets',\n",
       "       'Total.Length.of.Bwd.Packets', 'Fwd.Packet.Length.Max',\n",
       "       'Fwd.Packet.Length.Min', 'Fwd.Packet.Length.Mean',\n",
       "       'Fwd.Packet.Length.Std', 'Bwd.Packet.Length.Max',\n",
       "       'Bwd.Packet.Length.Min', 'Bwd.Packet.Length.Mean',\n",
       "       'Bwd.Packet.Length.Std', 'Flow.Bytes.s', 'Flow.Packets.s',\n",
       "       'Flow.IAT.Mean', 'Flow.IAT.Std', 'Flow.IAT.Max', 'Flow.IAT.Min',\n",
       "       'Fwd.IAT.Total', 'Fwd.IAT.Mean', 'Fwd.IAT.Std', 'Fwd.IAT.Max',\n",
       "       'Fwd.IAT.Min', 'Bwd.IAT.Total', 'Bwd.IAT.Mean', 'Bwd.IAT.Std',\n",
       "       'Bwd.IAT.Max', 'Bwd.IAT.Min', 'Fwd.PSH.Flags', 'Bwd.PSH.Flags',\n",
       "       'Fwd.URG.Flags', 'Bwd.URG.Flags', 'Fwd.Header.Length',\n",
       "       'Bwd.Header.Length', 'Fwd.Packets.s', 'Bwd.Packets.s',\n",
       "       'Min.Packet.Length', 'Max.Packet.Length', 'Packet.Length.Mean',\n",
       "       'Packet.Length.Std', 'Packet.Length.Variance', 'FIN.Flag.Count',\n",
       "       'SYN.Flag.Count', 'RST.Flag.Count', 'PSH.Flag.Count', 'ACK.Flag.Count',\n",
       "       'URG.Flag.Count', 'CWE.Flag.Count', 'ECE.Flag.Count', 'Down.Up.Ratio',\n",
       "       'Average.Packet.Size', 'Avg.Fwd.Segment.Size', 'Avg.Bwd.Segment.Size',\n",
       "       'Fwd.Header.Length.1', 'Fwd.Avg.Bytes.Bulk', 'Fwd.Avg.Packets.Bulk',\n",
       "       'Fwd.Avg.Bulk.Rate', 'Bwd.Avg.Bytes.Bulk', 'Bwd.Avg.Packets.Bulk',\n",
       "       'Bwd.Avg.Bulk.Rate', 'Subflow.Fwd.Packets', 'Subflow.Fwd.Bytes',\n",
       "       'Subflow.Bwd.Packets', 'Subflow.Bwd.Bytes', 'Init_Win_bytes_forward',\n",
       "       'Init_Win_bytes_backward', 'act_data_pkt_fwd', 'min_seg_size_forward',\n",
       "       'Active.Mean', 'Active.Std', 'Active.Max', 'Active.Min', 'Idle.Mean',\n",
       "       'Idle.Std', 'Idle.Max', 'Idle.Min', 'L7Protocol', 'ProtocolName'],\n",
       "      dtype='object')"
      ]
     },
     "execution_count": 6,
     "metadata": {},
     "output_type": "execute_result"
    }
   ],
   "source": [
    "initialDataFrame.columns\n"
   ]
  },
  {
   "cell_type": "code",
   "execution_count": 7,
   "id": "4337b56d",
   "metadata": {},
   "outputs": [],
   "source": [
    "dataFrame = initialDataFrame #Copy the data frame\n"
   ]
  },
  {
   "cell_type": "code",
   "execution_count": 8,
   "id": "48b4aa8f",
   "metadata": {},
   "outputs": [
    {
     "data": {
      "text/plain": [
       "'As input datasets used is gathered from a single location these fields add no siginificance to the model'"
      ]
     },
     "execution_count": 8,
     "metadata": {},
     "output_type": "execute_result"
    }
   ],
   "source": [
    "#Drop Sorce and Destination IP and Ports, they can be included when there is a requirment of regional classification \n",
    "dataFrame.drop(columns =[\"Source.IP\", \"Source.Port\", \"Destination.IP\", \"Destination.Port\"], inplace = True) \n",
    "'''As input datasets used is gathered from a single location these fields add no siginificance to the model'''"
   ]
  },
  {
   "cell_type": "code",
   "execution_count": 9,
   "id": "cc287c47",
   "metadata": {},
   "outputs": [
    {
     "name": "stdout",
     "output_type": "stream",
     "text": [
      "       ProtocolName  labels\n",
      "0        HTTP_PROXY      18\n",
      "1        HTTP_PROXY      18\n",
      "2              HTTP      15\n",
      "3              HTTP      15\n",
      "4        HTTP_PROXY      18\n",
      "...             ...     ...\n",
      "99995          HTTP      15\n",
      "99996          HTTP      15\n",
      "99997        GOOGLE      13\n",
      "99998        GOOGLE      13\n",
      "99999  HTTP_CONNECT      16\n",
      "\n",
      "[100000 rows x 2 columns]\n"
     ]
    }
   ],
   "source": [
    "labelEncoder = LabelEncoder() #creating a lable encoder object\n",
    "#inserting colunm named label with encoded values of Protocol Name\n",
    "dataFrame[\"labels\"] = labelEncoder.fit_transform(dataFrame[\"ProtocolName\"]) \n",
    "archiveFrame = dataFrame[[\"ProtocolName\", \"labels\"]]\n",
    "print(archiveFrame)\n",
    "archiveFrame = archiveFrame.drop_duplicates(keep='last')\n",
    "archiveFrame.to_csv('ProtocolsAndLabels.csv')"
   ]
  },
  {
   "cell_type": "code",
   "execution_count": 10,
   "id": "0ea21fb5",
   "metadata": {},
   "outputs": [
    {
     "data": {
      "image/png": "[encoded data removed]",
      "text/plain": [
       "<Figure size 1152x720 with 1 Axes>"
      ]
     },
     "metadata": {
      "needs_background": "light"
     },
     "output_type": "display_data"
    }
   ],
   "source": [
    "targetCount = dataFrame['ProtocolName'].value_counts()\n",
    "plt.figure(figsize=(16,10))\n",
    "targetCount.plot(kind='bar', title='Occurance');\n",
    "plt.savefig(\"PopularOccurances.png\")\n",
    "targetCount[23:].plot(kind='bar', title='Occurance');\n",
    "plt.savefig(\"ModrateOccurances.png\")\n",
    "#targetCount[56:].plot(kind='bar', title='Occurance');\n",
    "#plt.savefig(\"LowestOccurances.png\")"
   ]
  },
  {
   "cell_type": "code",
   "execution_count": 11,
   "id": "a6fc54e8",
   "metadata": {},
   "outputs": [],
   "source": [
    "# Removing FlowID and ProtocolName\n",
    "dataFrame.drop(columns = [\"Flow.ID\", \"ProtocolName\"], inplace = True) "
   ]
  },
  {
   "cell_type": "code",
   "execution_count": 12,
   "id": "48bc3ba3",
   "metadata": {},
   "outputs": [],
   "source": [
    "protocolLabels = dataFrame.iloc[:,-1] #extrecting only the labels of protol occurances \n",
    "#splitting our data frame into testing and training dataframes.\n",
    "x_train, x_test, y_train, y_test = train_test_split(dataFrame, protocolLabels, test_size=0.2)\n",
    "x_train.to_csv(\"xTrain.csv\")\n",
    "y_train.to_csv(\"yTrain.csv\")\n",
    "x_test.to_csv(\"xTest.csv\")\n",
    "y_test.to_csv(\"yTest.csv\")"
   ]
  },
  {
   "cell_type": "code",
   "execution_count": 13,
   "id": "01d88d9d",
   "metadata": {},
   "outputs": [
    {
     "data": {
      "text/plain": [
       "RandomForestClassifier()"
      ]
     },
     "execution_count": 13,
     "metadata": {},
     "output_type": "execute_result"
    }
   ],
   "source": [
    "classifier=RandomForestClassifier(n_estimators = 100) # n_estimators - The number of trees in the forest\n",
    "classifier.fit(x_train,y_train)"
   ]
  },
  {
   "cell_type": "code",
   "execution_count": 14,
   "id": "c21130d5",
   "metadata": {},
   "outputs": [],
   "source": [
    "predictions = classifier.predict(x_test)\n",
    "predictionsDataFrame = pd.DataFrame(predictions)\n",
    "predictionsDataFrame.to_csv(\"Predictions.csv\")"
   ]
  },
  {
   "cell_type": "code",
   "execution_count": 15,
   "id": "4e56017f",
   "metadata": {},
   "outputs": [
    {
     "data": {
      "text/plain": [
       "0.98955"
      ]
     },
     "execution_count": 15,
     "metadata": {},
     "output_type": "execute_result"
    }
   ],
   "source": [
    "classifier.score(x_test, y_test)"
   ]
  },
  {
   "cell_type": "code",
   "execution_count": 16,
   "id": "65758afa",
   "metadata": {},
   "outputs": [
    {
     "name": "stdout",
     "output_type": "stream",
     "text": [
      "[[308   0   0 ...   0   0   0]\n",
      " [  0   2   0 ...   0   0   0]\n",
      " [  3   0   5 ...   0   0   0]\n",
      " ...\n",
      " [  0   0   0 ... 178   0   0]\n",
      " [  0   0   0 ...   0 101   4]\n",
      " [  0   0   0 ...   0   0 780]]\n"
     ]
    },
    {
     "data": {
      "image/png": "[encoded data removed]",
      "text/plain": [
       "<Figure size 2448x864 with 2 Axes>"
      ]
     },
     "metadata": {
      "needs_background": "light"
     },
     "output_type": "display_data"
    }
   ],
   "source": [
    "# Scaling the variables\n",
    "scaler_x = StandardScaler()\n",
    "x_train = scaler_x.fit_transform(x_train)\n",
    "x_train = scaler_x.transform(x_test)\n",
    "\n",
    "# Predicting the test set results\n",
    "y_prediction = classifier.predict(x_test)\n",
    "\n",
    "\n",
    "# Making the confusion matrix\n",
    "conMat = confusion_matrix(y_true=y_test, y_pred=y_prediction)\n",
    "confusionDataFrame = pd.DataFrame(conMat)\n",
    "confusionDataFrame.to_csv(\"ConfusionMatrix.csv\")\n",
    "\n",
    "fig, ax = plt.subplots(figsize=(34,12)) \n",
    "sns.heatmap(conMat,annot=True, ax=ax, fmt='d', annot_kws={\"size\": 12})\n",
    "plt.savefig(\"ConfusionMatrix.png\")\n",
    "\n",
    "print(conMat)"
   ]
  },
  {
   "cell_type": "code",
   "execution_count": null,
   "id": "d641d168",
   "metadata": {},
   "outputs": [],
   "source": []
  }
 ],
 "metadata": {
  "kernelspec": {
   "display_name": "Python 3",
   "language": "python",
   "name": "python3"
  },
  "language_info": {
   "codemirror_mode": {
    "name": "ipython",
    "version": 3
   },
   "file_extension": ".py",
   "mimetype": "text/x-python",
   "name": "python",
   "nbconvert_exporter": "python",
   "pygments_lexer": "ipython3",
   "version": "3.8.8"
  }
 },
 "nbformat": 4,
 "nbformat_minor": 5
}
