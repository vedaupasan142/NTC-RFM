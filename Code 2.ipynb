{
 "cells": [
  {
   "cell_type": "code",
   "execution_count": 2,
   "id": "db418a19",
   "metadata": {},
   "outputs": [],
   "source": [
    "import numpy as np \n",
    "import pandas as pd \n",
    "import matplotlib.pyplot as plt"
   ]
  },
  {
   "cell_type": "code",
   "execution_count": 3,
   "id": "4af2a47d",
   "metadata": {},
   "outputs": [
    {
     "name": "stdout",
     "output_type": "stream",
     "text": [
      "There are 37069 rows and 9 columns\n"
     ]
    }
   ],
   "source": [
    "nRowsRead = None\n",
    "df1 = pd.read_csv('./sample.csv', delimiter=',', nrows = nRowsRead)\n",
    "df1.dataframeName = 'sample.csv'\n",
    "nRow, nCol = df1.shape\n",
    "\n",
    "print(f'There are {nRow} rows and {nCol} columns')"
   ]
  },
  {
   "cell_type": "code",
   "execution_count": 4,
   "id": "e6d150c0",
   "metadata": {},
   "outputs": [
    {
     "data": {
      "text/html": [
       "<div>\n",
       "<style scoped>\n",
       "    .dataframe tbody tr th:only-of-type {\n",
       "        vertical-align: middle;\n",
       "    }\n",
       "\n",
       "    .dataframe tbody tr th {\n",
       "        vertical-align: top;\n",
       "    }\n",
       "\n",
       "    .dataframe thead th {\n",
       "        text-align: right;\n",
       "    }\n",
       "</style>\n",
       "<table border=\"1\" class=\"dataframe\">\n",
       "  <thead>\n",
       "    <tr style=\"text-align: right;\">\n",
       "      <th></th>\n",
       "      <th>No.</th>\n",
       "      <th>Time</th>\n",
       "      <th>Source</th>\n",
       "      <th>Destination</th>\n",
       "      <th>Protocol</th>\n",
       "      <th>Length</th>\n",
       "      <th>Info</th>\n",
       "      <th>SourcePort</th>\n",
       "      <th>DestinationPort</th>\n",
       "    </tr>\n",
       "  </thead>\n",
       "  <tbody>\n",
       "    <tr>\n",
       "      <th>0</th>\n",
       "      <td>1</td>\n",
       "      <td>0.000000</td>\n",
       "      <td>192.168.1.41</td>\n",
       "      <td>172.217.163.202</td>\n",
       "      <td>UDP</td>\n",
       "      <td>75</td>\n",
       "      <td>56104  &gt;  443 Len=33</td>\n",
       "      <td>56104.0</td>\n",
       "      <td>443.0</td>\n",
       "    </tr>\n",
       "    <tr>\n",
       "      <th>1</th>\n",
       "      <td>2</td>\n",
       "      <td>0.020739</td>\n",
       "      <td>172.217.163.202</td>\n",
       "      <td>192.168.1.41</td>\n",
       "      <td>UDP</td>\n",
       "      <td>67</td>\n",
       "      <td>443  &gt;  56104 Len=25</td>\n",
       "      <td>443.0</td>\n",
       "      <td>56104.0</td>\n",
       "    </tr>\n",
       "    <tr>\n",
       "      <th>2</th>\n",
       "      <td>3</td>\n",
       "      <td>1.626530</td>\n",
       "      <td>192.168.1.41</td>\n",
       "      <td>172.217.163.202</td>\n",
       "      <td>UDP</td>\n",
       "      <td>75</td>\n",
       "      <td>56104  &gt;  443 Len=33</td>\n",
       "      <td>56104.0</td>\n",
       "      <td>443.0</td>\n",
       "    </tr>\n",
       "    <tr>\n",
       "      <th>3</th>\n",
       "      <td>4</td>\n",
       "      <td>1.647854</td>\n",
       "      <td>172.217.163.202</td>\n",
       "      <td>192.168.1.41</td>\n",
       "      <td>UDP</td>\n",
       "      <td>67</td>\n",
       "      <td>443  &gt;  56104 Len=25</td>\n",
       "      <td>443.0</td>\n",
       "      <td>56104.0</td>\n",
       "    </tr>\n",
       "    <tr>\n",
       "      <th>4</th>\n",
       "      <td>5</td>\n",
       "      <td>2.273481</td>\n",
       "      <td>192.168.1.41</td>\n",
       "      <td>34.213.81.249</td>\n",
       "      <td>TCP</td>\n",
       "      <td>55</td>\n",
       "      <td>64381  &gt;  443 [ACK] Seq=1 Ack=1 Win=513 Len=1 ...</td>\n",
       "      <td>64381.0</td>\n",
       "      <td>443.0</td>\n",
       "    </tr>\n",
       "    <tr>\n",
       "      <th>...</th>\n",
       "      <td>...</td>\n",
       "      <td>...</td>\n",
       "      <td>...</td>\n",
       "      <td>...</td>\n",
       "      <td>...</td>\n",
       "      <td>...</td>\n",
       "      <td>...</td>\n",
       "      <td>...</td>\n",
       "      <td>...</td>\n",
       "    </tr>\n",
       "    <tr>\n",
       "      <th>37064</th>\n",
       "      <td>37065</td>\n",
       "      <td>316.115663</td>\n",
       "      <td>192.168.1.41</td>\n",
       "      <td>172.217.194.189</td>\n",
       "      <td>QUIC</td>\n",
       "      <td>75</td>\n",
       "      <td>Protected Payload (KP0), DCID=32fbd04cc3375da9</td>\n",
       "      <td>56883.0</td>\n",
       "      <td>443.0</td>\n",
       "    </tr>\n",
       "    <tr>\n",
       "      <th>37065</th>\n",
       "      <td>37066</td>\n",
       "      <td>316.180459</td>\n",
       "      <td>172.217.194.189</td>\n",
       "      <td>192.168.1.41</td>\n",
       "      <td>QUIC</td>\n",
       "      <td>68</td>\n",
       "      <td>Protected Payload (KP0)</td>\n",
       "      <td>443.0</td>\n",
       "      <td>56883.0</td>\n",
       "    </tr>\n",
       "    <tr>\n",
       "      <th>37066</th>\n",
       "      <td>37067</td>\n",
       "      <td>316.395302</td>\n",
       "      <td>192.168.1.41</td>\n",
       "      <td>172.217.194.189</td>\n",
       "      <td>QUIC</td>\n",
       "      <td>75</td>\n",
       "      <td>Protected Payload (KP0), DCID=32fbd04cc3375da9</td>\n",
       "      <td>56883.0</td>\n",
       "      <td>443.0</td>\n",
       "    </tr>\n",
       "    <tr>\n",
       "      <th>37067</th>\n",
       "      <td>37068</td>\n",
       "      <td>316.457307</td>\n",
       "      <td>172.217.194.189</td>\n",
       "      <td>192.168.1.41</td>\n",
       "      <td>QUIC</td>\n",
       "      <td>68</td>\n",
       "      <td>Protected Payload (KP0)</td>\n",
       "      <td>443.0</td>\n",
       "      <td>56883.0</td>\n",
       "    </tr>\n",
       "    <tr>\n",
       "      <th>37068</th>\n",
       "      <td>37069</td>\n",
       "      <td>316.660178</td>\n",
       "      <td>192.168.1.41</td>\n",
       "      <td>172.217.163.202</td>\n",
       "      <td>UDP</td>\n",
       "      <td>75</td>\n",
       "      <td>56104  &gt;  443 Len=33</td>\n",
       "      <td>56104.0</td>\n",
       "      <td>443.0</td>\n",
       "    </tr>\n",
       "  </tbody>\n",
       "</table>\n",
       "<p>37069 rows × 9 columns</p>\n",
       "</div>"
      ],
      "text/plain": [
       "         No.        Time           Source      Destination Protocol  Length  \\\n",
       "0          1    0.000000     192.168.1.41  172.217.163.202      UDP      75   \n",
       "1          2    0.020739  172.217.163.202     192.168.1.41      UDP      67   \n",
       "2          3    1.626530     192.168.1.41  172.217.163.202      UDP      75   \n",
       "3          4    1.647854  172.217.163.202     192.168.1.41      UDP      67   \n",
       "4          5    2.273481     192.168.1.41    34.213.81.249      TCP      55   \n",
       "...      ...         ...              ...              ...      ...     ...   \n",
       "37064  37065  316.115663     192.168.1.41  172.217.194.189     QUIC      75   \n",
       "37065  37066  316.180459  172.217.194.189     192.168.1.41     QUIC      68   \n",
       "37066  37067  316.395302     192.168.1.41  172.217.194.189     QUIC      75   \n",
       "37067  37068  316.457307  172.217.194.189     192.168.1.41     QUIC      68   \n",
       "37068  37069  316.660178     192.168.1.41  172.217.163.202      UDP      75   \n",
       "\n",
       "                                                    Info  SourcePort  \\\n",
       "0                                   56104  >  443 Len=33     56104.0   \n",
       "1                                   443  >  56104 Len=25       443.0   \n",
       "2                                   56104  >  443 Len=33     56104.0   \n",
       "3                                   443  >  56104 Len=25       443.0   \n",
       "4      64381  >  443 [ACK] Seq=1 Ack=1 Win=513 Len=1 ...     64381.0   \n",
       "...                                                  ...         ...   \n",
       "37064     Protected Payload (KP0), DCID=32fbd04cc3375da9     56883.0   \n",
       "37065                            Protected Payload (KP0)       443.0   \n",
       "37066     Protected Payload (KP0), DCID=32fbd04cc3375da9     56883.0   \n",
       "37067                            Protected Payload (KP0)       443.0   \n",
       "37068                               56104  >  443 Len=33     56104.0   \n",
       "\n",
       "       DestinationPort  \n",
       "0                443.0  \n",
       "1              56104.0  \n",
       "2                443.0  \n",
       "3              56104.0  \n",
       "4                443.0  \n",
       "...                ...  \n",
       "37064            443.0  \n",
       "37065          56883.0  \n",
       "37066            443.0  \n",
       "37067          56883.0  \n",
       "37068            443.0  \n",
       "\n",
       "[37069 rows x 9 columns]"
      ]
     },
     "execution_count": 4,
     "metadata": {},
     "output_type": "execute_result"
    }
   ],
   "source": [
    "df1[:]"
   ]
  },
  {
   "cell_type": "code",
   "execution_count": 5,
   "id": "b6ac3e92",
   "metadata": {},
   "outputs": [],
   "source": [
    "df1.dropna(inplace = True)"
   ]
  },
  {
   "cell_type": "code",
   "execution_count": 6,
   "id": "0b9d8bdf",
   "metadata": {},
   "outputs": [],
   "source": [
    "df1.drop(columns =[\"Time\"], inplace = True)"
   ]
  },
  {
   "cell_type": "code",
   "execution_count": 7,
   "id": "7556ca55",
   "metadata": {},
   "outputs": [
    {
     "data": {
      "text/plain": [
       "Index(['No.', 'Source', 'Destination', 'Protocol', 'Length', 'Info',\n",
       "       'SourcePort', 'DestinationPort'],\n",
       "      dtype='object')"
      ]
     },
     "execution_count": 7,
     "metadata": {},
     "output_type": "execute_result"
    }
   ],
   "source": [
    "df1.columns"
   ]
  },
  {
   "cell_type": "code",
   "execution_count": 8,
   "id": "2feb575b",
   "metadata": {},
   "outputs": [],
   "source": [
    "df1.drop(columns =[\"No.\"], inplace = True)"
   ]
  },
  {
   "cell_type": "code",
   "execution_count": 9,
   "id": "2035bd17",
   "metadata": {},
   "outputs": [],
   "source": [
    "df2 = df1"
   ]
  },
  {
   "cell_type": "code",
   "execution_count": 10,
   "id": "1276893a",
   "metadata": {},
   "outputs": [],
   "source": [
    "df2.drop(columns =[\"Source\", \"SourcePort\", \"Destination\", \"DestinationPort\"], inplace = True) "
   ]
  },
  {
   "cell_type": "code",
   "execution_count": 11,
   "id": "f6b7e96b",
   "metadata": {},
   "outputs": [],
   "source": [
    "import pandas as pd\n",
    "import numpy as np\n",
    "from sklearn.feature_selection import SelectKBest\n",
    "from sklearn.feature_selection import chi2"
   ]
  },
  {
   "cell_type": "code",
   "execution_count": 12,
   "id": "9b7b91b7",
   "metadata": {},
   "outputs": [],
   "source": [
    "from sklearn.preprocessing import LabelEncoder"
   ]
  },
  {
   "cell_type": "code",
   "execution_count": 13,
   "id": "e877b82d",
   "metadata": {},
   "outputs": [
    {
     "data": {
      "text/html": [
       "<div>\n",
       "<style scoped>\n",
       "    .dataframe tbody tr th:only-of-type {\n",
       "        vertical-align: middle;\n",
       "    }\n",
       "\n",
       "    .dataframe tbody tr th {\n",
       "        vertical-align: top;\n",
       "    }\n",
       "\n",
       "    .dataframe thead th {\n",
       "        text-align: right;\n",
       "    }\n",
       "</style>\n",
       "<table border=\"1\" class=\"dataframe\">\n",
       "  <thead>\n",
       "    <tr style=\"text-align: right;\">\n",
       "      <th></th>\n",
       "      <th>Protocol</th>\n",
       "      <th>No.</th>\n",
       "    </tr>\n",
       "  </thead>\n",
       "  <tbody>\n",
       "    <tr>\n",
       "      <th>0</th>\n",
       "      <td>UDP</td>\n",
       "      <td>11</td>\n",
       "    </tr>\n",
       "    <tr>\n",
       "      <th>1</th>\n",
       "      <td>UDP</td>\n",
       "      <td>11</td>\n",
       "    </tr>\n",
       "    <tr>\n",
       "      <th>2</th>\n",
       "      <td>UDP</td>\n",
       "      <td>11</td>\n",
       "    </tr>\n",
       "    <tr>\n",
       "      <th>3</th>\n",
       "      <td>UDP</td>\n",
       "      <td>11</td>\n",
       "    </tr>\n",
       "    <tr>\n",
       "      <th>4</th>\n",
       "      <td>TCP</td>\n",
       "      <td>8</td>\n",
       "    </tr>\n",
       "    <tr>\n",
       "      <th>5</th>\n",
       "      <td>TCP</td>\n",
       "      <td>8</td>\n",
       "    </tr>\n",
       "    <tr>\n",
       "      <th>6</th>\n",
       "      <td>UDP</td>\n",
       "      <td>11</td>\n",
       "    </tr>\n",
       "    <tr>\n",
       "      <th>7</th>\n",
       "      <td>UDP</td>\n",
       "      <td>11</td>\n",
       "    </tr>\n",
       "    <tr>\n",
       "      <th>8</th>\n",
       "      <td>TLSv1.2</td>\n",
       "      <td>9</td>\n",
       "    </tr>\n",
       "    <tr>\n",
       "      <th>9</th>\n",
       "      <td>TCP</td>\n",
       "      <td>8</td>\n",
       "    </tr>\n",
       "    <tr>\n",
       "      <th>10</th>\n",
       "      <td>TLSv1.2</td>\n",
       "      <td>9</td>\n",
       "    </tr>\n",
       "  </tbody>\n",
       "</table>\n",
       "</div>"
      ],
      "text/plain": [
       "   Protocol  No.\n",
       "0       UDP   11\n",
       "1       UDP   11\n",
       "2       UDP   11\n",
       "3       UDP   11\n",
       "4       TCP    8\n",
       "5       TCP    8\n",
       "6       UDP   11\n",
       "7       UDP   11\n",
       "8   TLSv1.2    9\n",
       "9       TCP    8\n",
       "10  TLSv1.2    9"
      ]
     },
     "execution_count": 13,
     "metadata": {},
     "output_type": "execute_result"
    }
   ],
   "source": [
    "lb_make = LabelEncoder()\n",
    "df2[\"No.\"] = lb_make.fit_transform(df2[\"Protocol\"])\n",
    "df2[[\"Protocol\", \"No.\"]].head(11)"
   ]
  },
  {
   "cell_type": "code",
   "execution_count": 14,
   "id": "b3c14ba5",
   "metadata": {},
   "outputs": [
    {
     "data": {
      "text/html": [
       "<div>\n",
       "<style scoped>\n",
       "    .dataframe tbody tr th:only-of-type {\n",
       "        vertical-align: middle;\n",
       "    }\n",
       "\n",
       "    .dataframe tbody tr th {\n",
       "        vertical-align: top;\n",
       "    }\n",
       "\n",
       "    .dataframe thead th {\n",
       "        text-align: right;\n",
       "    }\n",
       "</style>\n",
       "<table border=\"1\" class=\"dataframe\">\n",
       "  <thead>\n",
       "    <tr style=\"text-align: right;\">\n",
       "      <th></th>\n",
       "      <th>Protocol</th>\n",
       "      <th>Length</th>\n",
       "      <th>Info</th>\n",
       "      <th>No.</th>\n",
       "    </tr>\n",
       "  </thead>\n",
       "  <tbody>\n",
       "    <tr>\n",
       "      <th>0</th>\n",
       "      <td>UDP</td>\n",
       "      <td>75</td>\n",
       "      <td>56104  &gt;  443 Len=33</td>\n",
       "      <td>11</td>\n",
       "    </tr>\n",
       "    <tr>\n",
       "      <th>1</th>\n",
       "      <td>UDP</td>\n",
       "      <td>67</td>\n",
       "      <td>443  &gt;  56104 Len=25</td>\n",
       "      <td>11</td>\n",
       "    </tr>\n",
       "    <tr>\n",
       "      <th>2</th>\n",
       "      <td>UDP</td>\n",
       "      <td>75</td>\n",
       "      <td>56104  &gt;  443 Len=33</td>\n",
       "      <td>11</td>\n",
       "    </tr>\n",
       "    <tr>\n",
       "      <th>3</th>\n",
       "      <td>UDP</td>\n",
       "      <td>67</td>\n",
       "      <td>443  &gt;  56104 Len=25</td>\n",
       "      <td>11</td>\n",
       "    </tr>\n",
       "    <tr>\n",
       "      <th>4</th>\n",
       "      <td>TCP</td>\n",
       "      <td>55</td>\n",
       "      <td>64381  &gt;  443 [ACK] Seq=1 Ack=1 Win=513 Len=1 ...</td>\n",
       "      <td>8</td>\n",
       "    </tr>\n",
       "  </tbody>\n",
       "</table>\n",
       "</div>"
      ],
      "text/plain": [
       "  Protocol  Length                                               Info  No.\n",
       "0      UDP      75                               56104  >  443 Len=33   11\n",
       "1      UDP      67                               443  >  56104 Len=25   11\n",
       "2      UDP      75                               56104  >  443 Len=33   11\n",
       "3      UDP      67                               443  >  56104 Len=25   11\n",
       "4      TCP      55  64381  >  443 [ACK] Seq=1 Ack=1 Win=513 Len=1 ...    8"
      ]
     },
     "execution_count": 14,
     "metadata": {},
     "output_type": "execute_result"
    }
   ],
   "source": [
    "df2.head()"
   ]
  },
  {
   "cell_type": "code",
   "execution_count": 15,
   "id": "a3f4e54a",
   "metadata": {},
   "outputs": [
    {
     "data": {
      "image/png": "[encoded data removed]",
      "text/plain": [
       "<Figure size 1152x720 with 1 Axes>"
      ]
     },
     "metadata": {
      "needs_background": "light"
     },
     "output_type": "display_data"
    }
   ],
   "source": [
    "target_count = df2['Protocol'].value_counts()\n",
    "plt.figure(figsize=(16,10))\n",
    "target_count.plot(kind='bar', title='Occurance');"
   ]
  },
  {
   "cell_type": "code",
   "execution_count": 16,
   "id": "a95e08c3",
   "metadata": {},
   "outputs": [],
   "source": [
    "df2.drop(columns = [\"Info\"], inplace = True)"
   ]
  },
  {
   "cell_type": "code",
   "execution_count": 17,
   "id": "d331782d",
   "metadata": {},
   "outputs": [],
   "source": [
    "df2.drop(columns = [\"Protocol\"], inplace = True)"
   ]
  },
  {
   "cell_type": "code",
   "execution_count": 18,
   "id": "75c6f38d",
   "metadata": {},
   "outputs": [],
   "source": [
    "from sklearn.model_selection import train_test_split\n",
    "\n",
    "y = df2.iloc[:,-1]\n",
    "\n",
    "X_train, X_test, y_train, y_test = train_test_split(df2, y, test_size=0.5)"
   ]
  },
  {
   "cell_type": "code",
   "execution_count": 19,
   "id": "cd35c74e",
   "metadata": {},
   "outputs": [
    {
     "data": {
      "text/plain": [
       "RandomForestClassifier()"
      ]
     },
     "execution_count": 19,
     "metadata": {},
     "output_type": "execute_result"
    }
   ],
   "source": [
    "from sklearn.ensemble import RandomForestClassifier\n",
    "clf=RandomForestClassifier(n_estimators=100) \n",
    "clf.fit(X_train,y_train)"
   ]
  },
  {
   "cell_type": "code",
   "execution_count": 20,
   "id": "7b01ea4d",
   "metadata": {},
   "outputs": [],
   "source": [
    "predictions = clf.predict(X_test)"
   ]
  },
  {
   "cell_type": "code",
   "execution_count": 21,
   "id": "da11fd1f",
   "metadata": {},
   "outputs": [
    {
     "data": {
      "text/plain": [
       "0.9999459839032031"
      ]
     },
     "execution_count": 21,
     "metadata": {},
     "output_type": "execute_result"
    }
   ],
   "source": [
    "clf.score(X_test, y_test)"
   ]
  },
  {
   "cell_type": "code",
   "execution_count": 26,
   "id": "86e24c21",
   "metadata": {},
   "outputs": [
    {
     "name": "stdout",
     "output_type": "stream",
     "text": [
      "[[   45     0     0     0     0     0     0     0     0     0     0]\n",
      " [    0     1     0     0     0     0     0     0     0     0     0]\n",
      " [    0     0    35     0     0     0     0     0     0     0     0]\n",
      " [    0     0     0    72     0     0     0     0     0     0     0]\n",
      " [    0     0     0     0    25     0     0     0     0     0     0]\n",
      " [    0     0     0     0     0 15609     0     0     0     0     0]\n",
      " [    0     0     0     0     0     0    19     0     0     0     0]\n",
      " [    0     0     0     0     0     0     0  1117     0     0     0]\n",
      " [    0     0     0     0     0     0     0     0    69     0     0]\n",
      " [    0     0     0     0     0     0     0     1     0   480     0]\n",
      " [    0     0     0     0     0     0     0     0     0     0  1040]]\n"
     ]
    },
    {
     "data": {
      "image/png": "[encoded data removed]",
      "text/plain": [
       "<Figure size 2448x864 with 2 Axes>"
      ]
     },
     "metadata": {
      "needs_background": "light"
     },
     "output_type": "display_data"
    }
   ],
   "source": [
    "import matplotlib.pyplot as plt\n",
    "import seaborn as sns\n",
    "import csv\n",
    "from sklearn.preprocessing import StandardScaler\n",
    "from sklearn.metrics import confusion_matrix\n",
    "# Scaling the variables\n",
    "scaler_x = StandardScaler()\n",
    "x_train = scaler_x.fit_transform(X_train)\n",
    "x_train = scaler_x.transform(X_test)\n",
    "\n",
    "# Predicting the test set results\n",
    "y_prediction = clf.predict(X_test)\n",
    "\n",
    "\n",
    "# Making the confusion matrix\n",
    "conMat = confusion_matrix(y_true=y_test, y_pred=y_prediction)\n",
    "confusionDataFrame = pd.DataFrame(conMat)\n",
    "confusionDataFrame.to_csv(\"ConfusionMatrix.csv\")\n",
    "\n",
    "fig, ax = plt.subplots(figsize=(34,12)) \n",
    "sns.heatmap(conMat,annot=True, ax=ax, fmt='d', annot_kws={\"size\": 12})\n",
    "plt.savefig(\"ConfusionMatrix.png\")\n",
    "\n",
    "print(conMat)"
   ]
  },
  {
   "cell_type": "code",
   "execution_count": null,
   "id": "7b75b63b",
   "metadata": {},
   "outputs": [],
   "source": []
  },
  {
   "cell_type": "code",
   "execution_count": null,
   "id": "7649e4e1",
   "metadata": {},
   "outputs": [],
   "source": []
  }
 ],
 "metadata": {
  "kernelspec": {
   "display_name": "Python 3",
   "language": "python",
   "name": "python3"
  },
  "language_info": {
   "codemirror_mode": {
    "name": "ipython",
    "version": 3
   },
   "file_extension": ".py",
   "mimetype": "text/x-python",
   "name": "python",
   "nbconvert_exporter": "python",
   "pygments_lexer": "ipython3",
   "version": "3.8.8"
  }
 },
 "nbformat": 4,
 "nbformat_minor": 5
}
